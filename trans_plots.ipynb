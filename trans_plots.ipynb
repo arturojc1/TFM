{
 "cells": [
  {
   "cell_type": "markdown",
   "id": "1ec5d7c1",
   "metadata": {},
   "source": [
    "# Ejecución de cálculos TranSiesta y TBTrans\n",
    "\n",
    "Antes de comenzar con el análisis de datos, necesitamos ejecutar los cálculos de TranSiesta y TBTrans. Este notebook guía paso a paso la ejecución de estos scripts y el posterior análisis de resultados.\n",
    "\n",
    "## Paso 1: Ejecución de TranSiesta\n",
    "\n",
    "El script `transiesta.sh` realiza los cálculos de TranSiesta para diferentes valores de bias. Ejecutaremos este script primero, ya que TBTrans necesita los resultados que genera TranSiesta.\n",
    "\n",
    "Parámetros principales:\n",
    "- `input_fdf_file`: Archivo de entrada con la configuración para TranSiesta\n",
    "- `pseudo_dir`: Directorio con los pseudopotenciales\n",
    "- `num_steps`: Número de pasos de bias a calcular\n",
    "- `max_bias` (opcional): Valor máximo del bias (por defecto: 1.0)\n",
    "\n",
    "### Ejemplo de uso:"
   ]
  },
  {
   "cell_type": "code",
   "execution_count": 2,
   "id": "4784242b",
   "metadata": {},
   "outputs": [
    {
     "name": "stdout",
     "output_type": "stream",
     "text": [
      "Generated bias values: 0 .25 .5 .75 1\n",
      "Created base directory: /home/artur/graphene/TranSiesta/TS_calculations_20250619_1522\n",
      "Copied /home/artur/graphene/TranSiesta/RUN.fdf to /home/artur/graphene/TranSiesta/TS_calculations_20250619_1522/\n",
      "=======================\n",
      "Processing bias: 0 eV (1/5)\n",
      "=======================\n",
      "Created directory: /home/artur/graphene/TranSiesta/TS_calculations_20250619_1522/bias_0\n",
      "Copying pseudopotentials from /home/artur/graphene/TranSiesta to /home/artur/graphene/TranSiesta/TS_calculations_20250619_1522/bias_0\n",
      "Changed directory to: /home/artur/graphene/TranSiesta/TS_calculations_20250619_1522/bias_0\n",
      "Running TranSiesta with bias 0 eV\n",
      "Job completed\n",
      "Time Summary:\n",
      "  Elapsed time: 00:01:46\n",
      "  Average time per calculation: 00:01:46\n",
      "  Estimated remaining time: 00:07:04\n",
      "  Estimated total time: 00:08:50\n",
      "  Progress: 1/5 (20%)\n",
      "Time for this calculation: 00:01:46\n",
      "Calculation for bias 0 eV completed successfully.\n",
      "\n",
      "=======================\n",
      "Processing bias: .25 eV (2/5)\n",
      "=======================\n",
      "Created directory: /home/artur/graphene/TranSiesta/TS_calculations_20250619_1522/bias_.25\n",
      "Copying pseudopotentials from /home/artur/graphene/TranSiesta to /home/artur/graphene/TranSiesta/TS_calculations_20250619_1522/bias_.25\n",
      "Changed directory to: /home/artur/graphene/TranSiesta/TS_calculations_20250619_1522/bias_.25\n",
      "Copying TSDE file from previous calculation\n",
      "Running TranSiesta with bias .25 eV\n",
      "Job completed\n",
      "Time Summary:\n",
      "  Elapsed time: 00:02:57\n",
      "  Average time per calculation: 00:01:28\n",
      "  Estimated remaining time: 00:04:24\n",
      "  Estimated total time: 00:07:21\n",
      "  Progress: 2/5 (40%)\n",
      "Time for this calculation: 00:01:11\n",
      "Calculation for bias .25 eV completed successfully.\n",
      "\n",
      "=======================\n",
      "Processing bias: .5 eV (3/5)\n",
      "=======================\n",
      "Created directory: /home/artur/graphene/TranSiesta/TS_calculations_20250619_1522/bias_.5\n",
      "Copying pseudopotentials from /home/artur/graphene/TranSiesta to /home/artur/graphene/TranSiesta/TS_calculations_20250619_1522/bias_.5\n",
      "Changed directory to: /home/artur/graphene/TranSiesta/TS_calculations_20250619_1522/bias_.5\n",
      "Copying TSDE file from previous calculation\n",
      "Running TranSiesta with bias .5 eV\n",
      "^C\n"
     ]
    }
   ],
   "source": [
    "# Ejemplo de ejecución de transiesta.sh\n",
    "# Descomenta y modifica según tus necesidades\n",
    "\n",
    "!bash ./transiesta.sh RUN.fdf ./ 5 1.0\n",
    "\n",
    "# Parámetros utilizados:\n",
    "# - RUN.fdf: Archivo con la configuración para TranSiesta\n",
    "# - ./pseudo: Directorio con los pseudopotenciales\n",
    "# - 5: Número de puntos de bias (incluyendo 0)\n",
    "# - 1.0: Valor máximo del bias (opcional, por defecto es 1.0)\n",
    "#\n",
    "# Esto calculará: 0, 0.25, 0.5, 0.75, 1.0"
   ]
  },
  {
   "cell_type": "markdown",
   "id": "4ba9bba2",
   "metadata": {},
   "source": [
    "## Paso 2: Ejecución de TBTrans\n",
    "\n",
    "Una vez que TranSiesta ha completado los cálculos y generado los archivos TSHS, podemos ejecutar TBTrans para calcular las propiedades de transporte. El script `tbtrans.sh` automatiza este proceso.\n",
    "\n",
    "Parámetros principales:\n",
    "- `input_fdf_file`: Archivo de entrada con la configuración para TBTrans\n",
    "- `num_steps`: Número de pasos de bias calculados en TranSiesta\n",
    "- `max_bias` (opcional): Valor máximo del bias (por defecto: 1.0)\n",
    "\n",
    "### Ejemplo de uso:"
   ]
  },
  {
   "cell_type": "code",
   "execution_count": 3,
   "id": "07871ccc",
   "metadata": {},
   "outputs": [
    {
     "name": "stdout",
     "output_type": "stream",
     "text": [
      "Generated bias values: 0.0 0.2 0.5 0.8 1.0\n",
      "Created base directory: /home/artur/graphene/TranSiesta/TBT_calculations_20250619_1526\n",
      "Copied /home/artur/graphene/TranSiesta/RUN.fdf to /home/artur/graphene/TranSiesta/TBT_calculations_20250619_1526/\n",
      "=======================\n",
      "Processing bias: 0.0 eV (1/5)\n",
      "=======================\n",
      "Created directory: /home/artur/graphene/TranSiesta/TBT_calculations_20250619_1526/bias_0.0\n",
      "Changed directory to: /home/artur/graphene/TranSiesta/TBT_calculations_20250619_1526/bias_0.0\n",
      "Running tbtrans with bias 0.0 eV\n",
      "ERROR: Could not read ../../TSHS_files/0.TSHS.\n",
      "Stopping Program from Node:    0\n",
      "--------------------------------------------------------------------------\n",
      "MPI_ABORT was invoked on rank 0 in communicator MPI_COMM_WORLD\n",
      "with errorcode 1.\n",
      "\n",
      "NOTE: invoking MPI_ABORT causes Open MPI to kill all MPI processes.\n",
      "You may or may not see output from other processes, depending on\n",
      "exactly when Open MPI kills them.\n",
      "--------------------------------------------------------------------------\n",
      "Error: tbtrans calculation failed for bias 0.0 eV!\n"
     ]
    }
   ],
   "source": [
    "# Ejemplo de ejecución de tbtrans.sh\n",
    "# Descomenta y modifica según tus necesidades\n",
    "\n",
    "!bash ./tbtrans.sh RUN.fdf 5 1.0\n",
    "\n",
    "# Parámetros utilizados:\n",
    "# - TBT.fdf: Archivo con la configuración para TBTrans\n",
    "# - 5: Número de puntos de bias (incluyendo 0)\n",
    "# - 1.0: Valor máximo del bias (opcional, por defecto es 1.0)\n",
    "#\n",
    "# Esto procesará los mismos valores de bias que se calcularon en TranSiesta"
   ]
  },
  {
   "cell_type": "markdown",
   "id": "bc91e5b7",
   "metadata": {},
   "source": [
    "## Paso 3: Verificación de resultados\n",
    "\n",
    "Antes de proceder con el análisis, es importante verificar que los cálculos se hayan completado correctamente y que los archivos de resultados estén disponibles en las ubicaciones esperadas.\n",
    "\n",
    "### Comprobación de archivos TSHS"
   ]
  },
  {
   "cell_type": "code",
   "execution_count": 4,
   "id": "86bea6cd",
   "metadata": {},
   "outputs": [
    {
     "name": "stdout",
     "output_type": "stream",
     "text": [
      "Archivos TSHS encontrados (0):\n"
     ]
    }
   ],
   "source": [
    "import os\n",
    "import glob\n",
    "\n",
    "# Verificar archivos TSHS\n",
    "tshs_dir = './TSHS_files/'\n",
    "if os.path.exists(tshs_dir):\n",
    "    tshs_files = glob.glob(os.path.join(tshs_dir, '*.TSHS'))\n",
    "    print(f\"Archivos TSHS encontrados ({len(tshs_files)}):\")\n",
    "    for f in sorted(tshs_files):\n",
    "        print(f\"  - {os.path.basename(f)}\")\n",
    "else:\n",
    "    print(f\"¡ADVERTENCIA! El directorio {tshs_dir} no existe.\")\n",
    "    print(\"Ejecuta primero el script transiesta.sh\")"
   ]
  },
  {
   "cell_type": "markdown",
   "id": "44166ce6",
   "metadata": {},
   "source": [
    "### Comprobación de archivos TBT"
   ]
  },
  {
   "cell_type": "code",
   "execution_count": 13,
   "id": "95452d4b",
   "metadata": {},
   "outputs": [
    {
     "name": "stdout",
     "output_type": "stream",
     "text": [
      "Archivos TBT encontrados (10):\n",
      "  - 0.0_TS_prueba.TBT.nc\n",
      "  - 0.1_TS_prueba.TBT.nc\n",
      "  - 0.2_TS_prueba.TBT.nc\n",
      "  - 0.3_TS_prueba.TBT.nc\n",
      "  - 0.4_TS_prueba.TBT.nc\n",
      "  - 0.6_TS_prueba.TBT.nc\n",
      "  - 0.7_TS_prueba.TBT.nc\n",
      "  - 0.8_TS_prueba.TBT.nc\n",
      "  - 0.9_TS_prueba.TBT.nc\n",
      "  - 1.0_TS_prueba.TBT.nc\n"
     ]
    }
   ],
   "source": [
    "# Verificar archivos TBT\n",
    "tbt_dir = './TBT_results/'\n",
    "if os.path.exists(tbt_dir):\n",
    "    tbt_files = glob.glob(os.path.join(tbt_dir, '*.nc'))\n",
    "    print(f\"Archivos TBT encontrados ({len(tbt_files)}):\")\n",
    "    for f in sorted(tbt_files):\n",
    "        print(f\"  - {os.path.basename(f)}\")\n",
    "else:\n",
    "    print(f\"¡ADVERTENCIA! El directorio {tbt_dir} no existe.\")\n",
    "    print(\"Ejecuta primero el script tbtrans.sh\")"
   ]
  },
  {
   "cell_type": "markdown",
   "id": "290eec4f",
   "metadata": {},
   "source": [
    "## Paso 4: Detectar automáticamente los archivos disponibles\n",
    "\n",
    "Antes de analizar los resultados, vamos a detectar automáticamente qué archivos están disponibles y extraer los valores de bias correspondientes. Esto nos permitirá trabajar con cualquier conjunto de resultados sin tener que modificar manualmente el código."
   ]
  },
  {
   "cell_type": "code",
   "execution_count": 7,
   "id": "3a15c31a",
   "metadata": {},
   "outputs": [
    {
     "name": "stdout",
     "output_type": "stream",
     "text": [
      "Encontrados 10 archivos TBT ordenados por bias:\n",
      "  - Bias: 0.00 V -> 0.0_TS_prueba.TBT.nc\n",
      "  - Bias: 0.10 V -> 0.1_TS_prueba.TBT.nc\n",
      "  - Bias: 0.20 V -> 0.2_TS_prueba.TBT.nc\n",
      "  - Bias: 0.30 V -> 0.3_TS_prueba.TBT.nc\n",
      "  - Bias: 0.40 V -> 0.4_TS_prueba.TBT.nc\n",
      "  - Bias: 0.60 V -> 0.6_TS_prueba.TBT.nc\n",
      "  - Bias: 0.70 V -> 0.7_TS_prueba.TBT.nc\n",
      "  - Bias: 0.80 V -> 0.8_TS_prueba.TBT.nc\n",
      "  - Bias: 0.90 V -> 0.9_TS_prueba.TBT.nc\n",
      "  - Bias: 1.00 V -> 1.0_TS_prueba.TBT.nc\n",
      "\n",
      "Valores de bias disponibles: [0.0, 0.1, 0.2, 0.3, 0.4, 0.6, 0.7, 0.8, 0.9, 1.0]\n"
     ]
    }
   ],
   "source": [
    "import re\n",
    "\n",
    "def extract_bias_from_filename(filename):\n",
    "    \"\"\"Extrae el valor de bias del nombre del archivo.\"\"\"\n",
    "    # Intenta extraer el valor numérico del nombre del archivo\n",
    "    match = re.search(r'(\\d+\\.\\d+|\\d+)', os.path.basename(filename))\n",
    "    if match:\n",
    "        return float(match.group(1))\n",
    "    return None\n",
    "\n",
    "# Función para encontrar y ordenar archivos TBT por valor de bias\n",
    "def find_tbt_files(directory='./TBT_results/'):\n",
    "    \"\"\"Encuentra y ordena archivos TBT por valor de bias.\"\"\"\n",
    "    if not os.path.exists(directory):\n",
    "        print(f\"El directorio {directory} no existe\")\n",
    "        return []\n",
    "    \n",
    "    # Buscar todos los archivos .nc en el directorio\n",
    "    tbt_files = glob.glob(os.path.join(directory, '*.nc'))\n",
    "    \n",
    "    # Crear una lista de tuplas (valor_bias, ruta_archivo)\n",
    "    files_with_bias = []\n",
    "    for file in tbt_files:\n",
    "        bias = extract_bias_from_filename(file)\n",
    "        if bias is not None:\n",
    "            files_with_bias.append((bias, file))\n",
    "    \n",
    "    # Ordenar por valor de bias\n",
    "    files_with_bias.sort()\n",
    "    \n",
    "    return files_with_bias\n",
    "\n",
    "# Encontrar archivos TBT y sus valores de bias\n",
    "tbt_files_with_bias = find_tbt_files()\n",
    "\n",
    "if tbt_files_with_bias:\n",
    "    print(f\"Encontrados {len(tbt_files_with_bias)} archivos TBT ordenados por bias:\")\n",
    "    for bias, file in tbt_files_with_bias:\n",
    "        print(f\"  - Bias: {bias:.2f} V -> {os.path.basename(file)}\")\n",
    "    \n",
    "    # Extraer los valores de bias para usarlos en el análisis\n",
    "    bias_values = [bias for bias, _ in tbt_files_with_bias]\n",
    "    print(f\"\\nValores de bias disponibles: {bias_values}\")\n",
    "else:\n",
    "    print(\"No se encontraron archivos TBT. Ejecute el script tbtrans.sh primero.\")"
   ]
  },
  {
   "cell_type": "markdown",
   "id": "48848869",
   "metadata": {},
   "source": [
    "## Paso 5: Análisis de la curva I-V\n",
    "\n",
    "Una vez que tenemos los archivos TBT, podemos calcular la corriente eléctrica para cada valor de bias y generar la curva característica I-V. Utilizaremos la biblioteca `sisl` para leer los archivos NetCDF y extraer la información de la corriente."
   ]
  },
  {
   "cell_type": "code",
   "execution_count": 8,
   "id": "4faceed7",
   "metadata": {},
   "outputs": [
    {
     "name": "stdout",
     "output_type": "stream",
     "text": [
      "Calculando corriente para cada valor de bias...\n",
      "Bias 0.00 V: Corriente = 0.000000 µA\n",
      "Bias 0.10 V: Corriente = 0.000229 µA\n",
      "Bias 0.20 V: Corriente = 0.007792 µA\n",
      "Bias 0.30 V: Corriente = 0.065709 µA\n",
      "Bias 0.40 V: Corriente = 0.173100 µA\n",
      "Bias 0.60 V: Corriente = 3.342843 µA\n",
      "Bias 0.70 V: Corriente = 8.574493 µA\n",
      "Bias 0.80 V: Corriente = 14.987363 µA\n",
      "Bias 0.40 V: Corriente = 0.173100 µA\n",
      "Bias 0.60 V: Corriente = 3.342843 µA\n",
      "Bias 0.70 V: Corriente = 8.574493 µA\n",
      "Bias 0.80 V: Corriente = 14.987363 µA\n",
      "Bias 0.90 V: Corriente = 22.066479 µA\n",
      "Bias 1.00 V: Corriente = 29.549849 µA\n",
      "Bias 0.90 V: Corriente = 22.066479 µA\n",
      "Bias 1.00 V: Corriente = 29.549849 µA\n"
     ]
    },
    {
     "data": {
      "image/png": "[encoded data removed]",
      "text/plain": [
       "<Figure size 1000x600 with 1 Axes>"
      ]
     },
     "metadata": {},
     "output_type": "display_data"
    }
   ],
   "source": [
    "# Importamos las bibliotecas necesarias si aún no están importadas\n",
    "import sisl\n",
    "import numpy as np\n",
    "import matplotlib.pyplot as plt\n",
    "%matplotlib inline\n",
    "\n",
    "# Función para calcular la corriente a partir de los archivos TBT\n",
    "def calculate_current_from_tbt_files(tbt_files_with_bias):\n",
    "    \"\"\"Calcula la corriente para cada valor de bias usando archivos TBT.\"\"\"\n",
    "    bias_values = []\n",
    "    current_values = []\n",
    "    \n",
    "    for bias, file_path in tbt_files_with_bias:\n",
    "        try:\n",
    "            # Intenta leer el archivo y extraer la corriente\n",
    "            tbt_file = sisl.get_sile(file_path)\n",
    "            current = tbt_file.current()\n",
    "            \n",
    "            bias_values.append(bias)\n",
    "            current_values.append(current)\n",
    "            print(f\"Bias {bias:.2f} V: Corriente = {current*1e6:.6f} µA\")\n",
    "        except Exception as e:\n",
    "            print(f\"Error al procesar el archivo {os.path.basename(file_path)}: {str(e)}\")\n",
    "    \n",
    "    return np.array(bias_values), np.array(current_values)\n",
    "\n",
    "# Calcular la corriente si hay archivos TBT disponibles\n",
    "if tbt_files_with_bias:\n",
    "    print(\"Calculando corriente para cada valor de bias...\")\n",
    "    bias_array, current_array = calculate_current_from_tbt_files(tbt_files_with_bias)\n",
    "    \n",
    "    # Graficar la curva I-V\n",
    "    plt.figure(figsize=(10, 6))\n",
    "    plt.plot(bias_array, current_array * 1e6, 'o-', linewidth=2)\n",
    "    plt.grid(True)\n",
    "    plt.xlabel('Bias [V]', fontsize=14)\n",
    "    plt.ylabel('Corriente [µA]', fontsize=14)\n",
    "    plt.title('Curva Característica I-V', fontsize=16)\n",
    "    plt.xticks(fontsize=12)\n",
    "    plt.yticks(fontsize=12)\n",
    "    plt.tight_layout()\n",
    "    plt.show()\n",
    "else:\n",
    "    print(\"No se pueden calcular las corrientes sin archivos TBT.\")"
   ]
  }
 ],
 "metadata": {
  "kernelspec": {
   "display_name": "base",
   "language": "python",
   "name": "python3"
  },
  "language_info": {
   "codemirror_mode": {
    "name": "ipython",
    "version": 3
   },
   "file_extension": ".py",
   "mimetype": "text/x-python",
   "name": "python",
   "nbconvert_exporter": "python",
   "pygments_lexer": "ipython3",
   "version": "3.12.8"
  }
 },
 "nbformat": 4,
 "nbformat_minor": 5
}
